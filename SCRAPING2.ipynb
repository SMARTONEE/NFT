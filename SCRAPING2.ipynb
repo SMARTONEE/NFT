{
 "cells": [
  {
   "cell_type": "code",
   "execution_count": 1,
   "id": "3da63658",
   "metadata": {},
   "outputs": [],
   "source": [
    "# Choose : le type d'analyse que l'on veut faire : 'to_check' ou 'to_buy'"
   ]
  },
  {
   "cell_type": "code",
   "execution_count": 13,
   "id": "da54c58c",
   "metadata": {},
   "outputs": [],
   "source": [
    "fichier = 'to_buy'"
   ]
  },
  {
   "cell_type": "code",
   "execution_count": 14,
   "id": "12f92801",
   "metadata": {},
   "outputs": [],
   "source": [
    "# Choisir le numéro de la collection à analyser dans fichier"
   ]
  },
  {
   "cell_type": "code",
   "execution_count": 15,
   "id": "367dad00",
   "metadata": {},
   "outputs": [],
   "source": [
    "num = 2"
   ]
  },
  {
   "cell_type": "code",
   "execution_count": 16,
   "id": "d87aae0a",
   "metadata": {},
   "outputs": [],
   "source": [
    "import requests \n",
    "from bs4 import BeautifulSoup\n",
    "import pandas as pd\n",
    "import json\n",
    "import matplotlib.pyplot as plt\n",
    "\n",
    "\n",
    "if fichier == 'to_check':\n",
    "    CSV = pd.read_csv(r'C:\\Users\\marti\\Desktop\\THP\\PF\\CSV_STRAT\\ALLTIME_TOP_N_TOCHECK.csv')\n",
    "else: CSV = pd.read_csv(r'C:\\Users\\marti\\Desktop\\THP\\PF\\CSV_STRAT\\NEW_TOBUY.csv')\n",
    "\n",
    "del CSV['Unnamed: 0']\n",
    "        \n",
    "url = 'https://cnft.tools/' + CSV.name[num]\n",
    "\n",
    "r = requests.get(url)\n",
    "soup = BeautifulSoup(r.content, 'html.parser')"
   ]
  },
  {
   "cell_type": "code",
   "execution_count": 17,
   "id": "830c8296",
   "metadata": {},
   "outputs": [
    {
     "data": {
      "text/plain": [
       "'https://cnft.tools/thejrney'"
      ]
     },
     "execution_count": 17,
     "metadata": {},
     "output_type": "execute_result"
    }
   ],
   "source": [
    "url"
   ]
  },
  {
   "cell_type": "code",
   "execution_count": 18,
   "id": "3e1f0284",
   "metadata": {},
   "outputs": [],
   "source": [
    "script = soup.find_all('script')[3].text.strip()"
   ]
  },
  {
   "cell_type": "code",
   "execution_count": 19,
   "id": "cf8e0004",
   "metadata": {},
   "outputs": [],
   "source": [
    "début = script.find('let nameList = \\'[')\n",
    "fin = script.find('\\';\\n    let mintCount =')"
   ]
  },
  {
   "cell_type": "code",
   "execution_count": 20,
   "id": "fd882ca0",
   "metadata": {},
   "outputs": [],
   "source": [
    "scriptj= script[début+16:fin]"
   ]
  },
  {
   "cell_type": "code",
   "execution_count": 21,
   "id": "01162ad0",
   "metadata": {},
   "outputs": [],
   "source": [
    "data = json.loads(scriptj)"
   ]
  },
  {
   "cell_type": "code",
   "execution_count": 22,
   "id": "338b2a83",
   "metadata": {},
   "outputs": [],
   "source": [
    "df = pd.DataFrame(data)"
   ]
  },
  {
   "cell_type": "code",
   "execution_count": 24,
   "id": "01f31ab6",
   "metadata": {},
   "outputs": [],
   "source": [
    "##Création du nouveau tableau\n",
    "df2 = pd.DataFrame().assign(rarityRank=df['rarityRank'], assetID=df['assetID'], assetName=df['assetName'], price=df['price'], prices=df['prices'])\n",
    "\n",
    "#Changement du type des colonnes\n",
    "df2[\"rarityRank\"] = df[\"rarityRank\"].astype('int')\n",
    "df2[\"assetID\"] = df[\"assetID\"].astype('int')\n",
    "\n",
    "df2[\"price\"] = df2.price.mask(df2.price == 'x')\n",
    "df2[\"price\"] = df2['price'].astype('Int64')\n",
    "\n",
    "df2[\"prices\"] = df2[\"prices\"].astype('str')\n",
    "df2[\"prices\"] = df2['prices'].mask(df2['prices'] == '{}')\n",
    "\n",
    "\n",
    "##changement du prices où on ne veut garder que le nom de la marketplace\n",
    "i = 0 \n",
    "while i < len(df2):\n",
    "    if pd.isna(df2.prices[i]) : \n",
    "        df2.loc[i, 'prices'] = 'not in sale'\n",
    "    else: df2.loc[i, 'prices'] = df2.prices[i][2:df2.prices[i].find(\"': {'id':\")]\n",
    "    i+= 1"
   ]
  },
  {
   "cell_type": "code",
   "execution_count": 25,
   "id": "d6d97496",
   "metadata": {},
   "outputs": [],
   "source": [
    "onsale = df2[df2['price'].notnull()]"
   ]
  },
  {
   "cell_type": "code",
   "execution_count": 26,
   "id": "6df0496e",
   "metadata": {},
   "outputs": [
    {
     "data": {
      "text/html": [
       "<div>\n",
       "<style scoped>\n",
       "    .dataframe tbody tr th:only-of-type {\n",
       "        vertical-align: middle;\n",
       "    }\n",
       "\n",
       "    .dataframe tbody tr th {\n",
       "        vertical-align: top;\n",
       "    }\n",
       "\n",
       "    .dataframe thead th {\n",
       "        text-align: right;\n",
       "    }\n",
       "</style>\n",
       "<table border=\"1\" class=\"dataframe\">\n",
       "  <thead>\n",
       "    <tr style=\"text-align: right;\">\n",
       "      <th></th>\n",
       "      <th>rarityRank</th>\n",
       "      <th>assetID</th>\n",
       "      <th>assetName</th>\n",
       "      <th>price</th>\n",
       "      <th>prices</th>\n",
       "    </tr>\n",
       "  </thead>\n",
       "  <tbody>\n",
       "    <tr>\n",
       "      <th>4</th>\n",
       "      <td>6531</td>\n",
       "      <td>215</td>\n",
       "      <td>TheJRney0215</td>\n",
       "      <td>450000000</td>\n",
       "      <td>jpgStore</td>\n",
       "    </tr>\n",
       "    <tr>\n",
       "      <th>6</th>\n",
       "      <td>2320</td>\n",
       "      <td>684</td>\n",
       "      <td>TheJRney0684</td>\n",
       "      <td>89000000</td>\n",
       "      <td>jpgStore</td>\n",
       "    </tr>\n",
       "    <tr>\n",
       "      <th>13</th>\n",
       "      <td>3392</td>\n",
       "      <td>162</td>\n",
       "      <td>TheJRney0162</td>\n",
       "      <td>200000000</td>\n",
       "      <td>jpgStore</td>\n",
       "    </tr>\n",
       "    <tr>\n",
       "      <th>22</th>\n",
       "      <td>2082</td>\n",
       "      <td>592</td>\n",
       "      <td>TheJRney0592</td>\n",
       "      <td>1800000000</td>\n",
       "      <td>jpgStore</td>\n",
       "    </tr>\n",
       "    <tr>\n",
       "      <th>25</th>\n",
       "      <td>2040</td>\n",
       "      <td>8</td>\n",
       "      <td>TheJRney0008</td>\n",
       "      <td>390000000</td>\n",
       "      <td>jpgStore</td>\n",
       "    </tr>\n",
       "    <tr>\n",
       "      <th>...</th>\n",
       "      <td>...</td>\n",
       "      <td>...</td>\n",
       "      <td>...</td>\n",
       "      <td>...</td>\n",
       "      <td>...</td>\n",
       "    </tr>\n",
       "    <tr>\n",
       "      <th>6479</th>\n",
       "      <td>6119</td>\n",
       "      <td>1130</td>\n",
       "      <td>TheJRney1130</td>\n",
       "      <td>120000000</td>\n",
       "      <td>jpgStore</td>\n",
       "    </tr>\n",
       "    <tr>\n",
       "      <th>6495</th>\n",
       "      <td>4302</td>\n",
       "      <td>2797</td>\n",
       "      <td>TheJRney2797</td>\n",
       "      <td>99000000</td>\n",
       "      <td>jpgStore</td>\n",
       "    </tr>\n",
       "    <tr>\n",
       "      <th>6506</th>\n",
       "      <td>1252</td>\n",
       "      <td>3826</td>\n",
       "      <td>TheJRney3826</td>\n",
       "      <td>200000000</td>\n",
       "      <td>jpgStore</td>\n",
       "    </tr>\n",
       "    <tr>\n",
       "      <th>6522</th>\n",
       "      <td>1128</td>\n",
       "      <td>5217</td>\n",
       "      <td>TheJRney5217</td>\n",
       "      <td>88000000</td>\n",
       "      <td>jpgStore</td>\n",
       "    </tr>\n",
       "    <tr>\n",
       "      <th>6537</th>\n",
       "      <td>346</td>\n",
       "      <td>6125</td>\n",
       "      <td>TheJRney6125</td>\n",
       "      <td>200000000</td>\n",
       "      <td>jpgStore</td>\n",
       "    </tr>\n",
       "  </tbody>\n",
       "</table>\n",
       "<p>1366 rows × 5 columns</p>\n",
       "</div>"
      ],
      "text/plain": [
       "      rarityRank  assetID     assetName       price    prices\n",
       "4           6531      215  TheJRney0215   450000000  jpgStore\n",
       "6           2320      684  TheJRney0684    89000000  jpgStore\n",
       "13          3392      162  TheJRney0162   200000000  jpgStore\n",
       "22          2082      592  TheJRney0592  1800000000  jpgStore\n",
       "25          2040        8  TheJRney0008   390000000  jpgStore\n",
       "...          ...      ...           ...         ...       ...\n",
       "6479        6119     1130  TheJRney1130   120000000  jpgStore\n",
       "6495        4302     2797  TheJRney2797    99000000  jpgStore\n",
       "6506        1252     3826  TheJRney3826   200000000  jpgStore\n",
       "6522        1128     5217  TheJRney5217    88000000  jpgStore\n",
       "6537         346     6125  TheJRney6125   200000000  jpgStore\n",
       "\n",
       "[1366 rows x 5 columns]"
      ]
     },
     "execution_count": 26,
     "metadata": {},
     "output_type": "execute_result"
    }
   ],
   "source": [
    "onsale"
   ]
  },
  {
   "cell_type": "code",
   "execution_count": 14,
   "id": "d904c1b8",
   "metadata": {},
   "outputs": [
    {
     "name": "stderr",
     "output_type": "stream",
     "text": [
      "C:\\Users\\marti\\AppData\\Local\\Temp\\ipykernel_10344\\3362478385.py:2: SettingWithCopyWarning: \n",
      "A value is trying to be set on a copy of a slice from a DataFrame\n",
      "\n",
      "See the caveats in the documentation: https://pandas.pydata.org/pandas-docs/stable/user_guide/indexing.html#returning-a-view-versus-a-copy\n",
      "  onsale.rename(columns = {'prices':'Marketplaces'}, inplace = True)\n"
     ]
    }
   ],
   "source": [
    "#reformatage rapide \n",
    "onsale.rename(columns = {'prices':'Marketplaces'}, inplace = True)\n",
    "onsale = onsale[['rarityRank','assetID','assetName','Marketplaces','price',]]"
   ]
  },
  {
   "cell_type": "code",
   "execution_count": 15,
   "id": "77952880",
   "metadata": {},
   "outputs": [],
   "source": [
    "#Rajouter un catégorie d'appartenance selon la rareté\n",
    "\n",
    "onsale['classement'] = 1   "
   ]
  },
  {
   "cell_type": "code",
   "execution_count": 16,
   "id": "1e5aa774",
   "metadata": {},
   "outputs": [
    {
     "name": "stderr",
     "output_type": "stream",
     "text": [
      "C:\\Users\\marti\\AppData\\Local\\Temp\\ipykernel_10344\\2464819010.py:15: SettingWithCopyWarning: \n",
      "A value is trying to be set on a copy of a slice from a DataFrame\n",
      "\n",
      "See the caveats in the documentation: https://pandas.pydata.org/pandas-docs/stable/user_guide/indexing.html#returning-a-view-versus-a-copy\n",
      "  else : onsale.classement[i] = \"[1201-MAX]\"\n"
     ]
    }
   ],
   "source": [
    "onsale = onsale.reset_index(drop=True)\n",
    "\n",
    "i = 0\n",
    "while i < len(onsale):\n",
    "    if onsale.rarityRank[i] < 51 : \n",
    "        onsale.classement[i] = \"[1-50]\"\n",
    "    elif onsale.rarityRank[i] < 101 : \n",
    "        onsale.classement[i] = \"[51-100]\"\n",
    "    elif onsale.rarityRank[i] < 201 : \n",
    "        onsale.classement[i] = \"[101-200]\"\n",
    "    elif onsale.rarityRank[i] < 501 : \n",
    "        onsale.classement[i] = \"[201-500]\"\n",
    "    elif onsale.rarityRank[i] < 1201 : \n",
    "        onsale.classement[i] = \"[501-1200]\" \n",
    "    else : onsale.classement[i] = \"[1201-MAX]\"\n",
    "    i+=1"
   ]
  },
  {
   "cell_type": "code",
   "execution_count": 17,
   "id": "ce3496d4",
   "metadata": {},
   "outputs": [],
   "source": [
    "#Va savoir pourquoi, le price est multiplié par 1000000\n",
    "onsale['price'] = onsale['price'] / 1000000"
   ]
  },
  {
   "cell_type": "code",
   "execution_count": 18,
   "id": "9f23af1f",
   "metadata": {},
   "outputs": [],
   "source": [
    "#Rajouter le price moyen de la catégorie \n",
    "#créer une colonne, qui dit warning X % de décalage avec la moyenne "
   ]
  },
  {
   "cell_type": "code",
   "execution_count": 19,
   "id": "ff68cf47",
   "metadata": {},
   "outputs": [],
   "source": [
    "onsale['médiane_de_classe'] = 1\n",
    "onsale['différence_relative_à_la_MC'] = 1\n",
    "onsale['médiane_de_marketplace'] = 1\n",
    "onsale['différence_relative_à_la_MMP'] = 1"
   ]
  },
  {
   "cell_type": "code",
   "execution_count": 20,
   "id": "9d3dd30e",
   "metadata": {},
   "outputs": [],
   "source": [
    "#Création des df des moyennes\n",
    "MC = pd.DataFrame(onsale.groupby(['classement'])['price'].median())\n",
    "MMP = pd.DataFrame(onsale.groupby(['Marketplaces', 'classement'])['price'].median())"
   ]
  },
  {
   "cell_type": "code",
   "execution_count": 21,
   "id": "4c796481",
   "metadata": {},
   "outputs": [],
   "source": [
    "MC = MC.reset_index()\n",
    "MMP = MMP.reset_index()"
   ]
  },
  {
   "cell_type": "code",
   "execution_count": 22,
   "id": "c7c724db",
   "metadata": {},
   "outputs": [
    {
     "name": "stderr",
     "output_type": "stream",
     "text": [
      "C:\\Users\\marti\\AppData\\Local\\Temp\\ipykernel_10344\\1522866781.py:8: SettingWithCopyWarning: \n",
      "A value is trying to be set on a copy of a slice from a DataFrame\n",
      "\n",
      "See the caveats in the documentation: https://pandas.pydata.org/pandas-docs/stable/user_guide/indexing.html#returning-a-view-versus-a-copy\n",
      "  onsale.médiane_de_classe[i] =  MC.price[y]\n"
     ]
    }
   ],
   "source": [
    "#Ajouter pour chaque pièce, le prix de la MMP et du classement. \n",
    "\n",
    "i = 0\n",
    "while i < len(onsale): \n",
    "    y = 0\n",
    "    while y < len(MC):\n",
    "        if onsale.classement[i] == MC.classement[y]:\n",
    "            onsale.médiane_de_classe[i] =  MC.price[y]\n",
    "        y += 1\n",
    "    i += 1"
   ]
  },
  {
   "cell_type": "code",
   "execution_count": 23,
   "id": "69b01fce",
   "metadata": {},
   "outputs": [
    {
     "name": "stderr",
     "output_type": "stream",
     "text": [
      "C:\\Users\\marti\\AppData\\Local\\Temp\\ipykernel_10344\\112717661.py:7: SettingWithCopyWarning: \n",
      "A value is trying to be set on a copy of a slice from a DataFrame\n",
      "\n",
      "See the caveats in the documentation: https://pandas.pydata.org/pandas-docs/stable/user_guide/indexing.html#returning-a-view-versus-a-copy\n",
      "  onsale.médiane_de_marketplace[i] =  MMP.price[y]\n"
     ]
    }
   ],
   "source": [
    "i = 0\n",
    "y = 0\n",
    "while i < len(onsale): \n",
    "    y = 0\n",
    "    while y < len(MMP):\n",
    "        if onsale.Marketplaces[i] == MMP.Marketplaces[y]:\n",
    "            onsale.médiane_de_marketplace[i] =  MMP.price[y]\n",
    "        y += 1\n",
    "    i += 1"
   ]
  },
  {
   "cell_type": "code",
   "execution_count": 24,
   "id": "6106ce5e",
   "metadata": {},
   "outputs": [],
   "source": [
    "#Rajouter les distances relatives par rapport aux moyennes de classe et de MMP\n",
    "onsale['différence_relative_à_la_MC'] =  ((onsale['price'] /onsale['médiane_de_classe'])-1)*100\n",
    "onsale['différence_relative_à_la_MMP'] =  ((onsale['price'] /onsale['médiane_de_marketplace'])-1)*100"
   ]
  },
  {
   "cell_type": "markdown",
   "id": "cef43b9c",
   "metadata": {},
   "source": [
    "# SI ON EST DANS UN SCHEMA TO_BUY "
   ]
  },
  {
   "cell_type": "code",
   "execution_count": 25,
   "id": "4097da2b",
   "metadata": {},
   "outputs": [],
   "source": [
    "#IL faut acheter des pièces rares sur une base de prix x% moins cheros "
   ]
  },
  {
   "cell_type": "code",
   "execution_count": 26,
   "id": "6d940c1e",
   "metadata": {},
   "outputs": [],
   "source": [
    "x = -65\n",
    "y = -40"
   ]
  },
  {
   "cell_type": "code",
   "execution_count": 27,
   "id": "a9f89fe2",
   "metadata": {},
   "outputs": [],
   "source": [
    "to_buy = onsale[(onsale.différence_relative_à_la_MC < x)]"
   ]
  },
  {
   "cell_type": "code",
   "execution_count": 28,
   "id": "11cceb2b",
   "metadata": {},
   "outputs": [
    {
     "name": "stderr",
     "output_type": "stream",
     "text": [
      "C:\\Users\\marti\\AppData\\Local\\Temp\\ipykernel_10344\\2180513205.py:1: SettingWithCopyWarning: \n",
      "A value is trying to be set on a copy of a slice from a DataFrame.\n",
      "Try using .loc[row_indexer,col_indexer] = value instead\n",
      "\n",
      "See the caveats in the documentation: https://pandas.pydata.org/pandas-docs/stable/user_guide/indexing.html#returning-a-view-versus-a-copy\n",
      "  to_buy['risque'] = 1\n"
     ]
    }
   ],
   "source": [
    "to_buy['risque'] = 1"
   ]
  },
  {
   "cell_type": "code",
   "execution_count": 29,
   "id": "62f33ebf",
   "metadata": {},
   "outputs": [
    {
     "name": "stderr",
     "output_type": "stream",
     "text": [
      "C:\\Users\\marti\\AppData\\Local\\Temp\\ipykernel_10344\\4128867889.py:8: SettingWithCopyWarning: \n",
      "A value is trying to be set on a copy of a slice from a DataFrame\n",
      "\n",
      "See the caveats in the documentation: https://pandas.pydata.org/pandas-docs/stable/user_guide/indexing.html#returning-a-view-versus-a-copy\n",
      "  to_buy.risque[i] = \"Tanger danger\"\n"
     ]
    }
   ],
   "source": [
    "to_buy = to_buy.reset_index(drop=True)\n",
    "\n",
    "i = 0\n",
    "while i < len(to_buy):\n",
    "    if to_buy.rarityRank[i] < 100 : \n",
    "        to_buy.risque[i] = \"A privilégier\"\n",
    "    elif to_buy.rarityRank[i] < 500 :\n",
    "        to_buy.risque[i] = \"Tanger danger\"\n",
    "    else :  to_buy.risque[i] = \"Y aller si argent à perdre\"\n",
    "    i+=1"
   ]
  },
  {
   "cell_type": "markdown",
   "id": "be6c3bc2",
   "metadata": {},
   "source": [
    "# SI ON EST DANS UN SHEMA TO_CHECK\n"
   ]
  },
  {
   "cell_type": "code",
   "execution_count": 30,
   "id": "7b2107a7",
   "metadata": {},
   "outputs": [],
   "source": [
    "to_check = onsale[(onsale.différence_relative_à_la_MC < y)]"
   ]
  },
  {
   "cell_type": "code",
   "execution_count": 31,
   "id": "04ffb64f",
   "metadata": {},
   "outputs": [
    {
     "name": "stderr",
     "output_type": "stream",
     "text": [
      "C:\\Users\\marti\\AppData\\Local\\Temp\\ipykernel_10344\\1849566061.py:1: SettingWithCopyWarning: \n",
      "A value is trying to be set on a copy of a slice from a DataFrame.\n",
      "Try using .loc[row_indexer,col_indexer] = value instead\n",
      "\n",
      "See the caveats in the documentation: https://pandas.pydata.org/pandas-docs/stable/user_guide/indexing.html#returning-a-view-versus-a-copy\n",
      "  to_check['risque'] = 1\n"
     ]
    }
   ],
   "source": [
    "to_check['risque'] = 1"
   ]
  },
  {
   "cell_type": "code",
   "execution_count": 32,
   "id": "acff77eb",
   "metadata": {},
   "outputs": [
    {
     "name": "stderr",
     "output_type": "stream",
     "text": [
      "C:\\Users\\marti\\AppData\\Local\\Temp\\ipykernel_10344\\202113293.py:8: SettingWithCopyWarning: \n",
      "A value is trying to be set on a copy of a slice from a DataFrame\n",
      "\n",
      "See the caveats in the documentation: https://pandas.pydata.org/pandas-docs/stable/user_guide/indexing.html#returning-a-view-versus-a-copy\n",
      "  to_buy.risque[i] = \"Tanger danger\"\n",
      "C:\\Users\\marti\\AppData\\Local\\Temp\\ipykernel_10344\\202113293.py:6: SettingWithCopyWarning: \n",
      "A value is trying to be set on a copy of a slice from a DataFrame\n",
      "\n",
      "See the caveats in the documentation: https://pandas.pydata.org/pandas-docs/stable/user_guide/indexing.html#returning-a-view-versus-a-copy\n",
      "  to_buy.risque[i] = \"A privilégier\"\n",
      "C:\\Users\\marti\\AppData\\Local\\Temp\\ipykernel_10344\\202113293.py:9: SettingWithCopyWarning: \n",
      "A value is trying to be set on a copy of a slice from a DataFrame\n",
      "\n",
      "See the caveats in the documentation: https://pandas.pydata.org/pandas-docs/stable/user_guide/indexing.html#returning-a-view-versus-a-copy\n",
      "  else :  to_buy.risque[i] = \"Y aller si argent à perdre\"\n"
     ]
    }
   ],
   "source": [
    "to_check = to_buy.reset_index(drop=True)\n",
    "\n",
    "i = 0\n",
    "while i < len(to_buy):\n",
    "    if to_buy.rarityRank[i] < 100 : \n",
    "        to_buy.risque[i] = \"A privilégier\"\n",
    "    elif to_buy.rarityRank[i] < 500 :\n",
    "        to_buy.risque[i] = \"Tanger danger\"\n",
    "    else :  to_buy.risque[i] = \"Y aller si argent à perdre\"\n",
    "    i+=1"
   ]
  },
  {
   "cell_type": "code",
   "execution_count": 34,
   "id": "fe5ad82a",
   "metadata": {},
   "outputs": [
    {
     "data": {
      "text/html": [
       "<div>\n",
       "<style scoped>\n",
       "    .dataframe tbody tr th:only-of-type {\n",
       "        vertical-align: middle;\n",
       "    }\n",
       "\n",
       "    .dataframe tbody tr th {\n",
       "        vertical-align: top;\n",
       "    }\n",
       "\n",
       "    .dataframe thead th {\n",
       "        text-align: right;\n",
       "    }\n",
       "</style>\n",
       "<table border=\"1\" class=\"dataframe\">\n",
       "  <thead>\n",
       "    <tr style=\"text-align: right;\">\n",
       "      <th></th>\n",
       "      <th>rarityRank</th>\n",
       "      <th>assetID</th>\n",
       "      <th>assetName</th>\n",
       "      <th>Marketplaces</th>\n",
       "      <th>price</th>\n",
       "      <th>classement</th>\n",
       "      <th>médiane_de_classe</th>\n",
       "      <th>différence_relative_à_la_MC</th>\n",
       "      <th>médiane_de_marketplace</th>\n",
       "      <th>différence_relative_à_la_MMP</th>\n",
       "      <th>risque</th>\n",
       "    </tr>\n",
       "  </thead>\n",
       "  <tbody>\n",
       "    <tr>\n",
       "      <th>0</th>\n",
       "      <td>377</td>\n",
       "      <td>274</td>\n",
       "      <td>TheJRney0274</td>\n",
       "      <td>jpgStore</td>\n",
       "      <td>129.0</td>\n",
       "      <td>[201-500]</td>\n",
       "      <td>500</td>\n",
       "      <td>-74.2</td>\n",
       "      <td>625</td>\n",
       "      <td>-79.36</td>\n",
       "      <td>Tanger danger</td>\n",
       "    </tr>\n",
       "    <tr>\n",
       "      <th>1</th>\n",
       "      <td>425</td>\n",
       "      <td>3425</td>\n",
       "      <td>TheJRney3425</td>\n",
       "      <td>jpgStore</td>\n",
       "      <td>170.0</td>\n",
       "      <td>[201-500]</td>\n",
       "      <td>500</td>\n",
       "      <td>-66.0</td>\n",
       "      <td>625</td>\n",
       "      <td>-72.8</td>\n",
       "      <td>Tanger danger</td>\n",
       "    </tr>\n",
       "    <tr>\n",
       "      <th>2</th>\n",
       "      <td>108</td>\n",
       "      <td>5169</td>\n",
       "      <td>TheJRney5169</td>\n",
       "      <td>jpgStore</td>\n",
       "      <td>139.0</td>\n",
       "      <td>[101-200]</td>\n",
       "      <td>500</td>\n",
       "      <td>-72.2</td>\n",
       "      <td>625</td>\n",
       "      <td>-77.76</td>\n",
       "      <td>Tanger danger</td>\n",
       "    </tr>\n",
       "    <tr>\n",
       "      <th>3</th>\n",
       "      <td>33</td>\n",
       "      <td>2591</td>\n",
       "      <td>TheJRney2591</td>\n",
       "      <td>jpgStore</td>\n",
       "      <td>333.0</td>\n",
       "      <td>[1-50]</td>\n",
       "      <td>1249</td>\n",
       "      <td>-73.338671</td>\n",
       "      <td>625</td>\n",
       "      <td>-46.72</td>\n",
       "      <td>A privilégier</td>\n",
       "    </tr>\n",
       "    <tr>\n",
       "      <th>4</th>\n",
       "      <td>88</td>\n",
       "      <td>3453</td>\n",
       "      <td>TheJRney3453</td>\n",
       "      <td>jpgStore</td>\n",
       "      <td>198.0</td>\n",
       "      <td>[51-100]</td>\n",
       "      <td>625</td>\n",
       "      <td>-68.32</td>\n",
       "      <td>625</td>\n",
       "      <td>-68.32</td>\n",
       "      <td>A privilégier</td>\n",
       "    </tr>\n",
       "    <tr>\n",
       "      <th>5</th>\n",
       "      <td>166</td>\n",
       "      <td>6380</td>\n",
       "      <td>TheJRney6380</td>\n",
       "      <td>jpgStore</td>\n",
       "      <td>150.0</td>\n",
       "      <td>[101-200]</td>\n",
       "      <td>500</td>\n",
       "      <td>-70.0</td>\n",
       "      <td>625</td>\n",
       "      <td>-76.0</td>\n",
       "      <td>Tanger danger</td>\n",
       "    </tr>\n",
       "    <tr>\n",
       "      <th>6</th>\n",
       "      <td>116</td>\n",
       "      <td>4119</td>\n",
       "      <td>TheJRney4119</td>\n",
       "      <td>jpgStore</td>\n",
       "      <td>149.0</td>\n",
       "      <td>[101-200]</td>\n",
       "      <td>500</td>\n",
       "      <td>-70.2</td>\n",
       "      <td>625</td>\n",
       "      <td>-76.16</td>\n",
       "      <td>Tanger danger</td>\n",
       "    </tr>\n",
       "    <tr>\n",
       "      <th>7</th>\n",
       "      <td>4767</td>\n",
       "      <td>5555</td>\n",
       "      <td>TheJRney5555</td>\n",
       "      <td>jpgStore</td>\n",
       "      <td>55.0</td>\n",
       "      <td>[1201-MAX]</td>\n",
       "      <td>160</td>\n",
       "      <td>-65.625</td>\n",
       "      <td>625</td>\n",
       "      <td>-91.2</td>\n",
       "      <td>Y aller si argent à perdre</td>\n",
       "    </tr>\n",
       "    <tr>\n",
       "      <th>8</th>\n",
       "      <td>396</td>\n",
       "      <td>1460</td>\n",
       "      <td>TheJRney1460</td>\n",
       "      <td>jpgStore</td>\n",
       "      <td>150.0</td>\n",
       "      <td>[201-500]</td>\n",
       "      <td>500</td>\n",
       "      <td>-70.0</td>\n",
       "      <td>625</td>\n",
       "      <td>-76.0</td>\n",
       "      <td>Tanger danger</td>\n",
       "    </tr>\n",
       "    <tr>\n",
       "      <th>9</th>\n",
       "      <td>1200</td>\n",
       "      <td>3489</td>\n",
       "      <td>TheJRney3489</td>\n",
       "      <td>jpgStore</td>\n",
       "      <td>89.0</td>\n",
       "      <td>[501-1200]</td>\n",
       "      <td>270</td>\n",
       "      <td>-67.037037</td>\n",
       "      <td>625</td>\n",
       "      <td>-85.76</td>\n",
       "      <td>Y aller si argent à perdre</td>\n",
       "    </tr>\n",
       "    <tr>\n",
       "      <th>10</th>\n",
       "      <td>179</td>\n",
       "      <td>5009</td>\n",
       "      <td>TheJRney5009</td>\n",
       "      <td>jpgStore</td>\n",
       "      <td>144.0</td>\n",
       "      <td>[101-200]</td>\n",
       "      <td>500</td>\n",
       "      <td>-71.2</td>\n",
       "      <td>625</td>\n",
       "      <td>-76.96</td>\n",
       "      <td>Tanger danger</td>\n",
       "    </tr>\n",
       "    <tr>\n",
       "      <th>11</th>\n",
       "      <td>24</td>\n",
       "      <td>4552</td>\n",
       "      <td>TheJRney4552</td>\n",
       "      <td>jpgStore</td>\n",
       "      <td>400.0</td>\n",
       "      <td>[1-50]</td>\n",
       "      <td>1249</td>\n",
       "      <td>-67.97438</td>\n",
       "      <td>625</td>\n",
       "      <td>-36.0</td>\n",
       "      <td>A privilégier</td>\n",
       "    </tr>\n",
       "    <tr>\n",
       "      <th>12</th>\n",
       "      <td>30</td>\n",
       "      <td>3628</td>\n",
       "      <td>TheJRney3628</td>\n",
       "      <td>jpgStore</td>\n",
       "      <td>302.0</td>\n",
       "      <td>[1-50]</td>\n",
       "      <td>1249</td>\n",
       "      <td>-75.820657</td>\n",
       "      <td>625</td>\n",
       "      <td>-51.68</td>\n",
       "      <td>A privilégier</td>\n",
       "    </tr>\n",
       "    <tr>\n",
       "      <th>13</th>\n",
       "      <td>43</td>\n",
       "      <td>5051</td>\n",
       "      <td>TheJRney5051</td>\n",
       "      <td>jpgStore</td>\n",
       "      <td>400.0</td>\n",
       "      <td>[1-50]</td>\n",
       "      <td>1249</td>\n",
       "      <td>-67.97438</td>\n",
       "      <td>625</td>\n",
       "      <td>-36.0</td>\n",
       "      <td>A privilégier</td>\n",
       "    </tr>\n",
       "    <tr>\n",
       "      <th>14</th>\n",
       "      <td>249</td>\n",
       "      <td>5318</td>\n",
       "      <td>TheJRney5318</td>\n",
       "      <td>jpgStore</td>\n",
       "      <td>155.0</td>\n",
       "      <td>[201-500]</td>\n",
       "      <td>500</td>\n",
       "      <td>-69.0</td>\n",
       "      <td>625</td>\n",
       "      <td>-75.2</td>\n",
       "      <td>Tanger danger</td>\n",
       "    </tr>\n",
       "    <tr>\n",
       "      <th>15</th>\n",
       "      <td>419</td>\n",
       "      <td>3586</td>\n",
       "      <td>TheJRney3586</td>\n",
       "      <td>jpgStore</td>\n",
       "      <td>150.0</td>\n",
       "      <td>[201-500]</td>\n",
       "      <td>500</td>\n",
       "      <td>-70.0</td>\n",
       "      <td>625</td>\n",
       "      <td>-76.0</td>\n",
       "      <td>Tanger danger</td>\n",
       "    </tr>\n",
       "    <tr>\n",
       "      <th>16</th>\n",
       "      <td>1128</td>\n",
       "      <td>5217</td>\n",
       "      <td>TheJRney5217</td>\n",
       "      <td>jpgStore</td>\n",
       "      <td>88.0</td>\n",
       "      <td>[501-1200]</td>\n",
       "      <td>270</td>\n",
       "      <td>-67.407407</td>\n",
       "      <td>625</td>\n",
       "      <td>-85.92</td>\n",
       "      <td>Y aller si argent à perdre</td>\n",
       "    </tr>\n",
       "  </tbody>\n",
       "</table>\n",
       "</div>"
      ],
      "text/plain": [
       "    rarityRank  assetID     assetName Marketplaces  price  classement  \\\n",
       "0          377      274  TheJRney0274     jpgStore  129.0   [201-500]   \n",
       "1          425     3425  TheJRney3425     jpgStore  170.0   [201-500]   \n",
       "2          108     5169  TheJRney5169     jpgStore  139.0   [101-200]   \n",
       "3           33     2591  TheJRney2591     jpgStore  333.0      [1-50]   \n",
       "4           88     3453  TheJRney3453     jpgStore  198.0    [51-100]   \n",
       "5          166     6380  TheJRney6380     jpgStore  150.0   [101-200]   \n",
       "6          116     4119  TheJRney4119     jpgStore  149.0   [101-200]   \n",
       "7         4767     5555  TheJRney5555     jpgStore   55.0  [1201-MAX]   \n",
       "8          396     1460  TheJRney1460     jpgStore  150.0   [201-500]   \n",
       "9         1200     3489  TheJRney3489     jpgStore   89.0  [501-1200]   \n",
       "10         179     5009  TheJRney5009     jpgStore  144.0   [101-200]   \n",
       "11          24     4552  TheJRney4552     jpgStore  400.0      [1-50]   \n",
       "12          30     3628  TheJRney3628     jpgStore  302.0      [1-50]   \n",
       "13          43     5051  TheJRney5051     jpgStore  400.0      [1-50]   \n",
       "14         249     5318  TheJRney5318     jpgStore  155.0   [201-500]   \n",
       "15         419     3586  TheJRney3586     jpgStore  150.0   [201-500]   \n",
       "16        1128     5217  TheJRney5217     jpgStore   88.0  [501-1200]   \n",
       "\n",
       "    médiane_de_classe  différence_relative_à_la_MC  médiane_de_marketplace  \\\n",
       "0                 500                        -74.2                     625   \n",
       "1                 500                        -66.0                     625   \n",
       "2                 500                        -72.2                     625   \n",
       "3                1249                   -73.338671                     625   \n",
       "4                 625                       -68.32                     625   \n",
       "5                 500                        -70.0                     625   \n",
       "6                 500                        -70.2                     625   \n",
       "7                 160                      -65.625                     625   \n",
       "8                 500                        -70.0                     625   \n",
       "9                 270                   -67.037037                     625   \n",
       "10                500                        -71.2                     625   \n",
       "11               1249                    -67.97438                     625   \n",
       "12               1249                   -75.820657                     625   \n",
       "13               1249                    -67.97438                     625   \n",
       "14                500                        -69.0                     625   \n",
       "15                500                        -70.0                     625   \n",
       "16                270                   -67.407407                     625   \n",
       "\n",
       "    différence_relative_à_la_MMP                      risque  \n",
       "0                         -79.36               Tanger danger  \n",
       "1                          -72.8               Tanger danger  \n",
       "2                         -77.76               Tanger danger  \n",
       "3                         -46.72               A privilégier  \n",
       "4                         -68.32               A privilégier  \n",
       "5                          -76.0               Tanger danger  \n",
       "6                         -76.16               Tanger danger  \n",
       "7                          -91.2  Y aller si argent à perdre  \n",
       "8                          -76.0               Tanger danger  \n",
       "9                         -85.76  Y aller si argent à perdre  \n",
       "10                        -76.96               Tanger danger  \n",
       "11                         -36.0               A privilégier  \n",
       "12                        -51.68               A privilégier  \n",
       "13                         -36.0               A privilégier  \n",
       "14                         -75.2               Tanger danger  \n",
       "15                         -76.0               Tanger danger  \n",
       "16                        -85.92  Y aller si argent à perdre  "
      ]
     },
     "execution_count": 34,
     "metadata": {},
     "output_type": "execute_result"
    }
   ],
   "source": [
    "to_buy"
   ]
  },
  {
   "cell_type": "code",
   "execution_count": 35,
   "id": "295afe24",
   "metadata": {},
   "outputs": [
    {
     "data": {
      "text/html": [
       "<div>\n",
       "<style scoped>\n",
       "    .dataframe tbody tr th:only-of-type {\n",
       "        vertical-align: middle;\n",
       "    }\n",
       "\n",
       "    .dataframe tbody tr th {\n",
       "        vertical-align: top;\n",
       "    }\n",
       "\n",
       "    .dataframe thead th {\n",
       "        text-align: right;\n",
       "    }\n",
       "</style>\n",
       "<table border=\"1\" class=\"dataframe\">\n",
       "  <thead>\n",
       "    <tr style=\"text-align: right;\">\n",
       "      <th></th>\n",
       "      <th>rarityRank</th>\n",
       "      <th>assetID</th>\n",
       "      <th>assetName</th>\n",
       "      <th>Marketplaces</th>\n",
       "      <th>price</th>\n",
       "      <th>classement</th>\n",
       "      <th>médiane_de_classe</th>\n",
       "      <th>différence_relative_à_la_MC</th>\n",
       "      <th>médiane_de_marketplace</th>\n",
       "      <th>différence_relative_à_la_MMP</th>\n",
       "      <th>risque</th>\n",
       "    </tr>\n",
       "  </thead>\n",
       "  <tbody>\n",
       "    <tr>\n",
       "      <th>3</th>\n",
       "      <td>33</td>\n",
       "      <td>2591</td>\n",
       "      <td>TheJRney2591</td>\n",
       "      <td>jpgStore</td>\n",
       "      <td>333.0</td>\n",
       "      <td>[1-50]</td>\n",
       "      <td>1249</td>\n",
       "      <td>-73.338671</td>\n",
       "      <td>625</td>\n",
       "      <td>-46.72</td>\n",
       "      <td>A privilégier</td>\n",
       "    </tr>\n",
       "    <tr>\n",
       "      <th>4</th>\n",
       "      <td>88</td>\n",
       "      <td>3453</td>\n",
       "      <td>TheJRney3453</td>\n",
       "      <td>jpgStore</td>\n",
       "      <td>198.0</td>\n",
       "      <td>[51-100]</td>\n",
       "      <td>625</td>\n",
       "      <td>-68.32</td>\n",
       "      <td>625</td>\n",
       "      <td>-68.32</td>\n",
       "      <td>A privilégier</td>\n",
       "    </tr>\n",
       "    <tr>\n",
       "      <th>11</th>\n",
       "      <td>24</td>\n",
       "      <td>4552</td>\n",
       "      <td>TheJRney4552</td>\n",
       "      <td>jpgStore</td>\n",
       "      <td>400.0</td>\n",
       "      <td>[1-50]</td>\n",
       "      <td>1249</td>\n",
       "      <td>-67.97438</td>\n",
       "      <td>625</td>\n",
       "      <td>-36.0</td>\n",
       "      <td>A privilégier</td>\n",
       "    </tr>\n",
       "    <tr>\n",
       "      <th>12</th>\n",
       "      <td>30</td>\n",
       "      <td>3628</td>\n",
       "      <td>TheJRney3628</td>\n",
       "      <td>jpgStore</td>\n",
       "      <td>302.0</td>\n",
       "      <td>[1-50]</td>\n",
       "      <td>1249</td>\n",
       "      <td>-75.820657</td>\n",
       "      <td>625</td>\n",
       "      <td>-51.68</td>\n",
       "      <td>A privilégier</td>\n",
       "    </tr>\n",
       "    <tr>\n",
       "      <th>13</th>\n",
       "      <td>43</td>\n",
       "      <td>5051</td>\n",
       "      <td>TheJRney5051</td>\n",
       "      <td>jpgStore</td>\n",
       "      <td>400.0</td>\n",
       "      <td>[1-50]</td>\n",
       "      <td>1249</td>\n",
       "      <td>-67.97438</td>\n",
       "      <td>625</td>\n",
       "      <td>-36.0</td>\n",
       "      <td>A privilégier</td>\n",
       "    </tr>\n",
       "  </tbody>\n",
       "</table>\n",
       "</div>"
      ],
      "text/plain": [
       "    rarityRank  assetID     assetName Marketplaces  price classement  \\\n",
       "3           33     2591  TheJRney2591     jpgStore  333.0     [1-50]   \n",
       "4           88     3453  TheJRney3453     jpgStore  198.0   [51-100]   \n",
       "11          24     4552  TheJRney4552     jpgStore  400.0     [1-50]   \n",
       "12          30     3628  TheJRney3628     jpgStore  302.0     [1-50]   \n",
       "13          43     5051  TheJRney5051     jpgStore  400.0     [1-50]   \n",
       "\n",
       "    médiane_de_classe  différence_relative_à_la_MC  médiane_de_marketplace  \\\n",
       "3                1249                   -73.338671                     625   \n",
       "4                 625                       -68.32                     625   \n",
       "11               1249                    -67.97438                     625   \n",
       "12               1249                   -75.820657                     625   \n",
       "13               1249                    -67.97438                     625   \n",
       "\n",
       "    différence_relative_à_la_MMP         risque  \n",
       "3                         -46.72  A privilégier  \n",
       "4                         -68.32  A privilégier  \n",
       "11                         -36.0  A privilégier  \n",
       "12                        -51.68  A privilégier  \n",
       "13                         -36.0  A privilégier  "
      ]
     },
     "execution_count": 35,
     "metadata": {},
     "output_type": "execute_result"
    }
   ],
   "source": [
    "to_buy[(to_buy.risque == 'A privilégier')]"
   ]
  },
  {
   "cell_type": "code",
   "execution_count": 53,
   "id": "2ebd6017",
   "metadata": {},
   "outputs": [],
   "source": [
    "urlp = 'https://api.opencnft.io/1/policy/'+ CSV.policies[num] + '/transactions'\n",
    "rp = requests.get(urlp)"
   ]
  },
  {
   "cell_type": "code",
   "execution_count": 68,
   "id": "bf99b056",
   "metadata": {},
   "outputs": [],
   "source": [
    "transactions = pd.json_normalize(rp.json()['items'])"
   ]
  },
  {
   "cell_type": "code",
   "execution_count": 64,
   "id": "07c86c49",
   "metadata": {},
   "outputs": [],
   "source": [
    "transactions['price'] = transactions['price'] / 1000000"
   ]
  },
  {
   "cell_type": "code",
   "execution_count": 67,
   "id": "9d605818",
   "metadata": {},
   "outputs": [
    {
     "data": {
      "text/plain": [
       "<AxesSubplot:title={'center':'rarity_rank'}, xlabel='marketplace'>"
      ]
     },
     "execution_count": 67,
     "metadata": {},
     "output_type": "execute_result"
    },
    {
     "data": {
      "image/png": "[encoded data removed]",
      "text/plain": [
       "<Figure size 720x576 with 1 Axes>"
      ]
     },
     "metadata": {
      "needs_background": "light"
     },
     "output_type": "display_data"
    }
   ],
   "source": [
    "fig, ax = plt.subplots(figsize=(10,8))\n",
    "plt.suptitle('')\n",
    "transactions.boxplot(column=['rarity_rank'], by='marketplace', ax=ax)"
   ]
  },
  {
   "cell_type": "code",
   "execution_count": 42,
   "id": "d0defbd8",
   "metadata": {},
   "outputs": [
    {
     "data": {
      "text/plain": [
       "<AxesSubplot:title={'center':'price'}, xlabel='Marketplaces'>"
      ]
     },
     "execution_count": 42,
     "metadata": {},
     "output_type": "execute_result"
    },
    {
     "data": {
      "image/png": "[encoded data removed]",
      "text/plain": [
       "<Figure size 720x576 with 1 Axes>"
      ]
     },
     "metadata": {
      "needs_background": "light"
     },
     "output_type": "display_data"
    }
   ],
   "source": [
    "fig, ax = plt.subplots(figsize=(10,8))\n",
    "plt.suptitle('')\n",
    "onsale.boxplot(column=['rarity_rank'], by='Marketplaces', ax=ax, showfliers=False)"
   ]
  },
  {
   "cell_type": "code",
   "execution_count": null,
   "id": "555205f4",
   "metadata": {},
   "outputs": [],
   "source": []
  }
 ],
 "metadata": {
  "kernelspec": {
   "display_name": "Python 3 (ipykernel)",
   "language": "python",
   "name": "python3"
  },
  "language_info": {
   "codemirror_mode": {
    "name": "ipython",
    "version": 3
   },
   "file_extension": ".py",
   "mimetype": "text/x-python",
   "name": "python",
   "nbconvert_exporter": "python",
   "pygments_lexer": "ipython3",
   "version": "3.9.12"
  }
 },
 "nbformat": 4,
 "nbformat_minor": 5
}
