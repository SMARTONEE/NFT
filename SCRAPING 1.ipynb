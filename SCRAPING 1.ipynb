{
 "cells": [
  {
   "cell_type": "code",
   "execution_count": 1,
   "id": "f8b3ca6d",
   "metadata": {},
   "outputs": [],
   "source": [
    "import requests \n",
    "from bs4 import BeautifulSoup\n",
    "import pandas as pd\n",
    "import json"
   ]
  },
  {
   "cell_type": "markdown",
   "id": "ae8e730d",
   "metadata": {},
   "source": [
    "# I . Scraping : séléctions des collections"
   ]
  },
  {
   "cell_type": "markdown",
   "id": "2d532930",
   "metadata": {},
   "source": [
    "## a. import des données via API du site Open CNFT "
   ]
  },
  {
   "cell_type": "code",
   "execution_count": 2,
   "id": "c3a787bf",
   "metadata": {},
   "outputs": [],
   "source": [
    "urlAT = 'https://api.opencnft.io/1/rank?window=all'\n",
    "rAT = requests.get(urlAT)"
   ]
  },
  {
   "cell_type": "code",
   "execution_count": 3,
   "id": "a40a3f22",
   "metadata": {},
   "outputs": [],
   "source": [
    "ALLTIME = pd.json_normalize(rAT.json()['ranking'])"
   ]
  },
  {
   "cell_type": "code",
   "execution_count": 4,
   "id": "56314958",
   "metadata": {},
   "outputs": [],
   "source": [
    "url30 = 'https://api.opencnft.io/1/rank?window=30d'\n",
    "r30 = requests.get(url30)"
   ]
  },
  {
   "cell_type": "code",
   "execution_count": 5,
   "id": "193e614b",
   "metadata": {},
   "outputs": [],
   "source": [
    "THIRTY_D = pd.json_normalize(r30.json()['ranking'])"
   ]
  },
  {
   "cell_type": "markdown",
   "id": "0eb7bf54",
   "metadata": {},
   "source": [
    "# "
   ]
  },
  {
   "cell_type": "markdown",
   "id": "42932330",
   "metadata": {},
   "source": [
    "## b. Travail sur les DB pour les cleaners."
   ]
  },
  {
   "cell_type": "markdown",
   "id": "243eb51c",
   "metadata": {},
   "source": [
    "### 1 . enlever la colonne 'thumbnail' "
   ]
  },
  {
   "cell_type": "code",
   "execution_count": 6,
   "id": "ca4750a7",
   "metadata": {},
   "outputs": [],
   "source": [
    "del ALLTIME['thumbnail']"
   ]
  },
  {
   "cell_type": "code",
   "execution_count": 7,
   "id": "f4e8ec91",
   "metadata": {},
   "outputs": [],
   "source": [
    "del THIRTY_D['thumbnail']"
   ]
  },
  {
   "cell_type": "markdown",
   "id": "b492d086",
   "metadata": {},
   "source": [
    "### 2. Changer la classe de chaque colonne"
   ]
  },
  {
   "cell_type": "code",
   "execution_count": 8,
   "id": "d061102f",
   "metadata": {},
   "outputs": [],
   "source": [
    "ALLTIME['policies'] = ALLTIME['policies'].astype('str') \n",
    "THIRTY_D['policies'] = THIRTY_D['policies'].astype('str') "
   ]
  },
  {
   "cell_type": "markdown",
   "id": "fae0fba3",
   "metadata": {},
   "source": [
    "### 3. Enlever les braquettes début/fin de la colonne 'policies'"
   ]
  },
  {
   "cell_type": "code",
   "execution_count": 9,
   "id": "a4c0406c",
   "metadata": {},
   "outputs": [],
   "source": [
    "i = 0 \n",
    "while i < len(ALLTIME):\n",
    "    ALLTIME.loc[i, 'policies'] = ALLTIME.policies[i][2:ALLTIME.policies[i].find(\"']\")]\n",
    "    i+= 1"
   ]
  },
  {
   "cell_type": "code",
   "execution_count": 10,
   "id": "57a11393",
   "metadata": {},
   "outputs": [],
   "source": [
    "i = 0 \n",
    "while i < len(THIRTY_D):\n",
    "    THIRTY_D.loc[i, 'policies'] = THIRTY_D.policies[i][2:THIRTY_D.policies[i].find(\"']\")]\n",
    "    i+= 1"
   ]
  },
  {
   "cell_type": "markdown",
   "id": "89ef225b",
   "metadata": {},
   "source": [
    "## c. Début de la séléction selon des collections"
   ]
  },
  {
   "cell_type": "markdown",
   "id": "aec21273",
   "metadata": {},
   "source": [
    "### 1 . Collections qui font mieux sur 30D que les collections qui sont présentes dans le top10 30D et TOP 10 ALL TIME"
   ]
  },
  {
   "cell_type": "code",
   "execution_count": 12,
   "id": "44e2e7a2",
   "metadata": {},
   "outputs": [],
   "source": [
    "# peut etre que "
   ]
  },
  {
   "cell_type": "code",
   "execution_count": 13,
   "id": "b7febf50",
   "metadata": {},
   "outputs": [],
   "source": [
    "BESTALL = []\n",
    "i = 0 \n",
    "while i < len(THIRTY_D[0:11]):\n",
    "    y = 0\n",
    "    while y < len(ALLTIME[0:6]): \n",
    "        if THIRTY_D.policies[i] == ALLTIME.policies[y]:\n",
    "            BESTALL.append(THIRTY_D.loc[i])\n",
    "        y += 1\n",
    "    i+=1"
   ]
  },
  {
   "cell_type": "code",
   "execution_count": 14,
   "id": "aa0faa7f",
   "metadata": {},
   "outputs": [],
   "source": [
    "BESTALL = pd.DataFrame(BESTALL)"
   ]
  },
  {
   "cell_type": "code",
   "execution_count": 15,
   "id": "0e9f8359",
   "metadata": {},
   "outputs": [],
   "source": [
    "BESTALL = BESTALL.reset_index(drop = True)"
   ]
  },
  {
   "cell_type": "code",
   "execution_count": 16,
   "id": "742fdb38",
   "metadata": {},
   "outputs": [],
   "source": [
    "NEW_TOBUY = []\n",
    "i = 0 \n",
    "while i < len(THIRTY_D[0:11]):\n",
    "    if THIRTY_D.volume[i] > BESTALL.volume.min() and THIRTY_D.policies[i] not in ALLTIME.policies[0:13].values:\n",
    "        NEW_TOBUY.append(THIRTY_D.loc[i]) \n",
    "    i+= 1"
   ]
  },
  {
   "cell_type": "code",
   "execution_count": 17,
   "id": "539a142b",
   "metadata": {},
   "outputs": [],
   "source": [
    "NEW_TOBUY = pd.DataFrame(NEW_TOBUY)\n",
    "NEW_TOBUY = NEW_TOBUY.reset_index(drop = True)"
   ]
  },
  {
   "cell_type": "code",
   "execution_count": 18,
   "id": "990156f4",
   "metadata": {},
   "outputs": [],
   "source": [
    "NEW_TOBUY.name = NEW_TOBUY.name.str.replace(' ', '').str.replace('-', '').str.lower()"
   ]
  },
  {
   "cell_type": "markdown",
   "id": "6ed29bd1",
   "metadata": {},
   "source": [
    "### 2 . TOP 'N' ALL TIME --> basique recherche d'opportunité "
   ]
  },
  {
   "cell_type": "code",
   "execution_count": 19,
   "id": "15403384",
   "metadata": {},
   "outputs": [],
   "source": [
    "#regarder si dans le top 20 ALL TIME, il y a des opportunités d'achats. \n",
    "# Genre X % moins cheros que le marché. "
   ]
  },
  {
   "cell_type": "code",
   "execution_count": 20,
   "id": "ab3e117c",
   "metadata": {},
   "outputs": [],
   "source": [
    "#Définition de la plage sur laquelle on veut travailler, \n",
    "# m, n la plage des collections sur lesquelles on travaille, NE PAS PRENDRE UN N TROP ELEVE et éviter un range trop élévé. Calcul lourd\n",
    "# p --> le floor price minimum, histoire de ne pas avoir que des collections qui vallent un bras, NE PAS PRENDRE UN P TROP ELEVE à moins d^'tre dasn el top'"
   ]
  },
  {
   "cell_type": "code",
   "execution_count": 21,
   "id": "83f63a49",
   "metadata": {},
   "outputs": [],
   "source": [
    "m = 11\n",
    "n = 20\n",
    "p = 300"
   ]
  },
  {
   "cell_type": "code",
   "execution_count": 22,
   "id": "67f3a2fe",
   "metadata": {},
   "outputs": [],
   "source": [
    "df = ALLTIME[m:n]\n",
    "ALLTIME_TOP_N_TOCHECK = df[df.floor_price < p]"
   ]
  },
  {
   "cell_type": "code",
   "execution_count": 23,
   "id": "704c46f0",
   "metadata": {},
   "outputs": [],
   "source": [
    "ALLTIME_TOP_N_TOCHECK = ALLTIME_TOP_N_TOCHECK.reset_index(drop = True)"
   ]
  },
  {
   "cell_type": "code",
   "execution_count": 24,
   "id": "5d96a0ca",
   "metadata": {},
   "outputs": [],
   "source": [
    "ALLTIME_TOP_N_TOCHECK.name = ALLTIME_TOP_N_TOCHECK.name.str.replace(' ', '').str.replace('-', '').str.lower()"
   ]
  },
  {
   "cell_type": "markdown",
   "id": "08ca410b",
   "metadata": {},
   "source": [
    "### 3. TOP15 ALLTIME en chute depuis 7 jours --> opportunités achat possibles"
   ]
  },
  {
   "cell_type": "markdown",
   "id": "d1045ea2",
   "metadata": {},
   "source": [
    "### 4. TOP 10 7 DAYS non présents dans le top 20 ALL TIME & TOP 10 ALL TIME : (à réfléchir)"
   ]
  },
  {
   "cell_type": "markdown",
   "id": "5761b6c2",
   "metadata": {},
   "source": [
    "## d. Extraction des fichiers"
   ]
  },
  {
   "cell_type": "code",
   "execution_count": 27,
   "id": "297a6f83",
   "metadata": {},
   "outputs": [],
   "source": [
    "ALLTIME_TOP_N_TOCHECK.to_csv(r'C:\\Users\\marti\\Desktop\\THP\\PF\\CSV_STRAT\\ALLTIME_TOP_N_TOCHECK.csv')"
   ]
  },
  {
   "cell_type": "code",
   "execution_count": 28,
   "id": "ac506f59",
   "metadata": {},
   "outputs": [],
   "source": [
    "NEW_TOBUY.to_csv(r'C:\\Users\\marti\\Desktop\\THP\\PF\\CSV_STRAT\\NEW_TOBUY.csv')"
   ]
  },
  {
   "cell_type": "code",
   "execution_count": 29,
   "id": "ad72d04b",
   "metadata": {},
   "outputs": [
    {
     "data": {
      "text/html": [
       "<div>\n",
       "<style scoped>\n",
       "    .dataframe tbody tr th:only-of-type {\n",
       "        vertical-align: middle;\n",
       "    }\n",
       "\n",
       "    .dataframe tbody tr th {\n",
       "        vertical-align: top;\n",
       "    }\n",
       "\n",
       "    .dataframe thead th {\n",
       "        text-align: right;\n",
       "    }\n",
       "</style>\n",
       "<table border=\"1\" class=\"dataframe\">\n",
       "  <thead>\n",
       "    <tr style=\"text-align: right;\">\n",
       "      <th></th>\n",
       "      <th>name</th>\n",
       "      <th>volume</th>\n",
       "      <th>total_tx</th>\n",
       "      <th>total_assets</th>\n",
       "      <th>floor_price</th>\n",
       "      <th>volume_today</th>\n",
       "      <th>volume_ystd</th>\n",
       "      <th>1dChange</th>\n",
       "      <th>volume_week</th>\n",
       "      <th>volume_last_week</th>\n",
       "      <th>7dChange</th>\n",
       "      <th>policies</th>\n",
       "      <th>thumbnail_type</th>\n",
       "      <th>total_minted</th>\n",
       "      <th>total_owners</th>\n",
       "      <th>link</th>\n",
       "    </tr>\n",
       "  </thead>\n",
       "  <tbody>\n",
       "    <tr>\n",
       "      <th>0</th>\n",
       "      <td>aquafarmers</td>\n",
       "      <td>3.710687e+06</td>\n",
       "      <td>6922</td>\n",
       "      <td>4695</td>\n",
       "      <td>220.0</td>\n",
       "      <td>14118.0</td>\n",
       "      <td>2937.0</td>\n",
       "      <td>3.806946</td>\n",
       "      <td>30162.0</td>\n",
       "      <td>16600.00</td>\n",
       "      <td>0.816988</td>\n",
       "      <td>86ec26a91051e4d42df00b023202e177a0027dca4294a2...</td>\n",
       "      <td>image/png</td>\n",
       "      <td>[10001]</td>\n",
       "      <td>[3145]</td>\n",
       "      <td>https://opencnft.io/p4PovekqpGS5jv29yDl</td>\n",
       "    </tr>\n",
       "    <tr>\n",
       "      <th>1</th>\n",
       "      <td>zombiechains</td>\n",
       "      <td>3.527482e+06</td>\n",
       "      <td>10844</td>\n",
       "      <td>6078</td>\n",
       "      <td>90.0</td>\n",
       "      <td>1625.0</td>\n",
       "      <td>200.0</td>\n",
       "      <td>7.125000</td>\n",
       "      <td>8506.0</td>\n",
       "      <td>3972.69</td>\n",
       "      <td>1.141118</td>\n",
       "      <td>96580bbc4fe27ac0d127db3f8a0dc698c58d303d8cae87...</td>\n",
       "      <td>None</td>\n",
       "      <td>[10000]</td>\n",
       "      <td>[2668]</td>\n",
       "      <td>https://opencnft.io/1JX1lE9OGnHdPoB66aeDiBo</td>\n",
       "    </tr>\n",
       "    <tr>\n",
       "      <th>2</th>\n",
       "      <td>cabinsbytheapesociety</td>\n",
       "      <td>3.442645e+06</td>\n",
       "      <td>5670</td>\n",
       "      <td>4343</td>\n",
       "      <td>170.0</td>\n",
       "      <td>4955.0</td>\n",
       "      <td>1216.0</td>\n",
       "      <td>3.074836</td>\n",
       "      <td>24024.0</td>\n",
       "      <td>24967.00</td>\n",
       "      <td>-0.037770</td>\n",
       "      <td>d4e087164acf8314f1203f0b0996f14908e2a199a296d0...</td>\n",
       "      <td>image/gif</td>\n",
       "      <td>[10001]</td>\n",
       "      <td>[2940]</td>\n",
       "      <td>https://opencnft.io/GP2aEomaPdfmqOX9zVQ8UXqZm1...</td>\n",
       "    </tr>\n",
       "    <tr>\n",
       "      <th>3</th>\n",
       "      <td>cornucopiasbubblejettsprinter2022</td>\n",
       "      <td>3.244915e+06</td>\n",
       "      <td>10612</td>\n",
       "      <td>7248</td>\n",
       "      <td>169.0</td>\n",
       "      <td>4430.0</td>\n",
       "      <td>2457.9</td>\n",
       "      <td>0.802352</td>\n",
       "      <td>26275.9</td>\n",
       "      <td>21298.50</td>\n",
       "      <td>0.233697</td>\n",
       "      <td>e282271ec9251ba23fb123b0f53618b35cf5a6cde4170c...</td>\n",
       "      <td>image/png</td>\n",
       "      <td>[12001]</td>\n",
       "      <td>[6196]</td>\n",
       "      <td>https://opencnft.io/4omZwPwEJ7u3ke5l806eUk1EEB...</td>\n",
       "    </tr>\n",
       "  </tbody>\n",
       "</table>\n",
       "</div>"
      ],
      "text/plain": [
       "                                name        volume  total_tx  total_assets  \\\n",
       "0                        aquafarmers  3.710687e+06      6922          4695   \n",
       "1                       zombiechains  3.527482e+06     10844          6078   \n",
       "2              cabinsbytheapesociety  3.442645e+06      5670          4343   \n",
       "3  cornucopiasbubblejettsprinter2022  3.244915e+06     10612          7248   \n",
       "\n",
       "   floor_price  volume_today  volume_ystd  1dChange  volume_week  \\\n",
       "0        220.0       14118.0       2937.0  3.806946      30162.0   \n",
       "1         90.0        1625.0        200.0  7.125000       8506.0   \n",
       "2        170.0        4955.0       1216.0  3.074836      24024.0   \n",
       "3        169.0        4430.0       2457.9  0.802352      26275.9   \n",
       "\n",
       "   volume_last_week  7dChange  \\\n",
       "0          16600.00  0.816988   \n",
       "1           3972.69  1.141118   \n",
       "2          24967.00 -0.037770   \n",
       "3          21298.50  0.233697   \n",
       "\n",
       "                                            policies thumbnail_type  \\\n",
       "0  86ec26a91051e4d42df00b023202e177a0027dca4294a2...      image/png   \n",
       "1  96580bbc4fe27ac0d127db3f8a0dc698c58d303d8cae87...           None   \n",
       "2  d4e087164acf8314f1203f0b0996f14908e2a199a296d0...      image/gif   \n",
       "3  e282271ec9251ba23fb123b0f53618b35cf5a6cde4170c...      image/png   \n",
       "\n",
       "  total_minted total_owners                                               link  \n",
       "0      [10001]       [3145]            https://opencnft.io/p4PovekqpGS5jv29yDl  \n",
       "1      [10000]       [2668]        https://opencnft.io/1JX1lE9OGnHdPoB66aeDiBo  \n",
       "2      [10001]       [2940]  https://opencnft.io/GP2aEomaPdfmqOX9zVQ8UXqZm1...  \n",
       "3      [12001]       [6196]  https://opencnft.io/4omZwPwEJ7u3ke5l806eUk1EEB...  "
      ]
     },
     "execution_count": 29,
     "metadata": {},
     "output_type": "execute_result"
    }
   ],
   "source": [
    "ALLTIME_TOP_N_TOCHECK"
   ]
  },
  {
   "cell_type": "code",
   "execution_count": 30,
   "id": "a2552d7a",
   "metadata": {},
   "outputs": [
    {
     "data": {
      "text/html": [
       "<div>\n",
       "<style scoped>\n",
       "    .dataframe tbody tr th:only-of-type {\n",
       "        vertical-align: middle;\n",
       "    }\n",
       "\n",
       "    .dataframe tbody tr th {\n",
       "        vertical-align: top;\n",
       "    }\n",
       "\n",
       "    .dataframe thead th {\n",
       "        text-align: right;\n",
       "    }\n",
       "</style>\n",
       "<table border=\"1\" class=\"dataframe\">\n",
       "  <thead>\n",
       "    <tr style=\"text-align: right;\">\n",
       "      <th></th>\n",
       "      <th>name</th>\n",
       "      <th>volume</th>\n",
       "      <th>total_tx</th>\n",
       "      <th>total_assets</th>\n",
       "      <th>floor_price</th>\n",
       "      <th>volume_today</th>\n",
       "      <th>volume_ystd</th>\n",
       "      <th>1dChange</th>\n",
       "      <th>volume_week</th>\n",
       "      <th>volume_last_week</th>\n",
       "      <th>7dChange</th>\n",
       "      <th>policies</th>\n",
       "      <th>thumbnail_type</th>\n",
       "      <th>total_minted</th>\n",
       "      <th>total_owners</th>\n",
       "      <th>link</th>\n",
       "    </tr>\n",
       "  </thead>\n",
       "  <tbody>\n",
       "    <tr>\n",
       "      <th>0</th>\n",
       "      <td>themallardorder</td>\n",
       "      <td>3487665.02</td>\n",
       "      <td>5423</td>\n",
       "      <td>3811</td>\n",
       "      <td>322.0</td>\n",
       "      <td>22794.33</td>\n",
       "      <td>8171.00</td>\n",
       "      <td>1.789662</td>\n",
       "      <td>125016.23</td>\n",
       "      <td>216228.44</td>\n",
       "      <td>-0.421833</td>\n",
       "      <td>901ba6e9831b078e131a1cc403d6139af21bda255cea6c...</td>\n",
       "      <td>image/png</td>\n",
       "      <td>[6501]</td>\n",
       "      <td>[1561]</td>\n",
       "      <td>https://opencnft.io/PJxZ87VVVAsB4NP5Mo7dsL21xqB2D</td>\n",
       "    </tr>\n",
       "    <tr>\n",
       "      <th>1</th>\n",
       "      <td>raccoonsyndicate</td>\n",
       "      <td>1133321.90</td>\n",
       "      <td>3780</td>\n",
       "      <td>3054</td>\n",
       "      <td>175.0</td>\n",
       "      <td>8480.00</td>\n",
       "      <td>14776.99</td>\n",
       "      <td>-0.426135</td>\n",
       "      <td>181652.16</td>\n",
       "      <td>951669.74</td>\n",
       "      <td>-0.809123</td>\n",
       "      <td>59142df7dfea56a5b76b842c206fc7bd844b43a2d10f5e...</td>\n",
       "      <td>image/png</td>\n",
       "      <td>[5000]</td>\n",
       "      <td>[931]</td>\n",
       "      <td>https://opencnft.io/xyn6jxVvoeHvvmLMojx2fzVN463zv</td>\n",
       "    </tr>\n",
       "    <tr>\n",
       "      <th>2</th>\n",
       "      <td>thejrney</td>\n",
       "      <td>876078.09</td>\n",
       "      <td>5148</td>\n",
       "      <td>4025</td>\n",
       "      <td>47.0</td>\n",
       "      <td>2189.00</td>\n",
       "      <td>5061.70</td>\n",
       "      <td>-0.567537</td>\n",
       "      <td>36996.33</td>\n",
       "      <td>61591.27</td>\n",
       "      <td>-0.399325</td>\n",
       "      <td>c204b7595ab87f70a4a4d3a6c40833e8942b990bacf492...</td>\n",
       "      <td>image/jpg</td>\n",
       "      <td>[6543]</td>\n",
       "      <td>[1375]</td>\n",
       "      <td>https://opencnft.io/5vBGJ76a9YI3wNG1</td>\n",
       "    </tr>\n",
       "    <tr>\n",
       "      <th>3</th>\n",
       "      <td>virtuacardanoislandland</td>\n",
       "      <td>510728.90</td>\n",
       "      <td>505</td>\n",
       "      <td>465</td>\n",
       "      <td>205.0</td>\n",
       "      <td>3501.00</td>\n",
       "      <td>13714.99</td>\n",
       "      <td>-0.744732</td>\n",
       "      <td>100052.49</td>\n",
       "      <td>122964.40</td>\n",
       "      <td>-0.186330</td>\n",
       "      <td>347f991d4b306919e3e7b01f1cdececa06c2e493a21a0d...</td>\n",
       "      <td>None</td>\n",
       "      <td>[6375]</td>\n",
       "      <td>[2035]</td>\n",
       "      <td>https://opencnft.io/VNOYqZL5AXSkRZmPYandizo7mx...</td>\n",
       "    </tr>\n",
       "  </tbody>\n",
       "</table>\n",
       "</div>"
      ],
      "text/plain": [
       "                      name      volume  total_tx  total_assets  floor_price  \\\n",
       "0          themallardorder  3487665.02      5423          3811        322.0   \n",
       "1         raccoonsyndicate  1133321.90      3780          3054        175.0   \n",
       "2                 thejrney   876078.09      5148          4025         47.0   \n",
       "3  virtuacardanoislandland   510728.90       505           465        205.0   \n",
       "\n",
       "   volume_today  volume_ystd  1dChange  volume_week  volume_last_week  \\\n",
       "0      22794.33      8171.00  1.789662    125016.23         216228.44   \n",
       "1       8480.00     14776.99 -0.426135    181652.16         951669.74   \n",
       "2       2189.00      5061.70 -0.567537     36996.33          61591.27   \n",
       "3       3501.00     13714.99 -0.744732    100052.49         122964.40   \n",
       "\n",
       "   7dChange                                           policies thumbnail_type  \\\n",
       "0 -0.421833  901ba6e9831b078e131a1cc403d6139af21bda255cea6c...      image/png   \n",
       "1 -0.809123  59142df7dfea56a5b76b842c206fc7bd844b43a2d10f5e...      image/png   \n",
       "2 -0.399325  c204b7595ab87f70a4a4d3a6c40833e8942b990bacf492...      image/jpg   \n",
       "3 -0.186330  347f991d4b306919e3e7b01f1cdececa06c2e493a21a0d...           None   \n",
       "\n",
       "  total_minted total_owners                                               link  \n",
       "0       [6501]       [1561]  https://opencnft.io/PJxZ87VVVAsB4NP5Mo7dsL21xqB2D  \n",
       "1       [5000]        [931]  https://opencnft.io/xyn6jxVvoeHvvmLMojx2fzVN463zv  \n",
       "2       [6543]       [1375]               https://opencnft.io/5vBGJ76a9YI3wNG1  \n",
       "3       [6375]       [2035]  https://opencnft.io/VNOYqZL5AXSkRZmPYandizo7mx...  "
      ]
     },
     "execution_count": 30,
     "metadata": {},
     "output_type": "execute_result"
    }
   ],
   "source": [
    "NEW_TOBUY"
   ]
  }
 ],
 "metadata": {
  "kernelspec": {
   "display_name": "Python 3 (ipykernel)",
   "language": "python",
   "name": "python3"
  },
  "language_info": {
   "codemirror_mode": {
    "name": "ipython",
    "version": 3
   },
   "file_extension": ".py",
   "mimetype": "text/x-python",
   "name": "python",
   "nbconvert_exporter": "python",
   "pygments_lexer": "ipython3",
   "version": "3.9.12"
  }
 },
 "nbformat": 4,
 "nbformat_minor": 5
}
